{
 "cells": [
  {
   "cell_type": "markdown",
   "id": "2d1fa76d-aa6a-44dd-ae67-89f61de33dcb",
   "metadata": {},
   "source": [
    "### Import and preprocess the dataset."
   ]
  },
  {
   "cell_type": "code",
   "execution_count": 1,
   "id": "58e5a237-c4e8-49c2-8863-2b00aefd9233",
   "metadata": {},
   "outputs": [
    {
     "name": "stdout",
     "output_type": "stream",
     "text": [
      "--- Task 3: Step 1 - Import and Preprocess the Dataset ---\n",
      "Loading the Housing.csv dataset...\n",
      "Dataset loaded successfully.\n",
      "\n",
      "Dataset Info:\n",
      "<class 'pandas.core.frame.DataFrame'>\n",
      "RangeIndex: 545 entries, 0 to 544\n",
      "Data columns (total 13 columns):\n",
      " #   Column            Non-Null Count  Dtype \n",
      "---  ------            --------------  ----- \n",
      " 0   price             545 non-null    int64 \n",
      " 1   area              545 non-null    int64 \n",
      " 2   bedrooms          545 non-null    int64 \n",
      " 3   bathrooms         545 non-null    int64 \n",
      " 4   stories           545 non-null    int64 \n",
      " 5   mainroad          545 non-null    object\n",
      " 6   guestroom         545 non-null    object\n",
      " 7   basement          545 non-null    object\n",
      " 8   hotwaterheating   545 non-null    object\n",
      " 9   airconditioning   545 non-null    object\n",
      " 10  parking           545 non-null    int64 \n",
      " 11  prefarea          545 non-null    object\n",
      " 12  furnishingstatus  545 non-null    object\n",
      "dtypes: int64(6), object(7)\n",
      "memory usage: 55.5+ KB\n",
      "\n",
      "Descriptive Statistics of Numerical Features:\n",
      "              price          area    bedrooms   bathrooms     stories  \\\n",
      "count  5.450000e+02    545.000000  545.000000  545.000000  545.000000   \n",
      "mean   4.766729e+06   5150.541284    2.965138    1.286239    1.805505   \n",
      "std    1.870440e+06   2170.141023    0.738064    0.502470    0.867492   \n",
      "min    1.750000e+06   1650.000000    1.000000    1.000000    1.000000   \n",
      "25%    3.430000e+06   3600.000000    2.000000    1.000000    1.000000   \n",
      "50%    4.340000e+06   4600.000000    3.000000    1.000000    2.000000   \n",
      "75%    5.740000e+06   6360.000000    3.000000    2.000000    2.000000   \n",
      "max    1.330000e+07  16200.000000    6.000000    4.000000    4.000000   \n",
      "\n",
      "          parking  \n",
      "count  545.000000  \n",
      "mean     0.693578  \n",
      "std      0.861586  \n",
      "min      0.000000  \n",
      "25%      0.000000  \n",
      "50%      0.000000  \n",
      "75%      1.000000  \n",
      "max      3.000000  \n",
      "\n",
      "Missing Values per Column:\n",
      "price               0\n",
      "area                0\n",
      "bedrooms            0\n",
      "bathrooms           0\n",
      "stories             0\n",
      "mainroad            0\n",
      "guestroom           0\n",
      "basement            0\n",
      "hotwaterheating     0\n",
      "airconditioning     0\n",
      "parking             0\n",
      "prefarea            0\n",
      "furnishingstatus    0\n",
      "dtype: int64\n",
      "\n",
      "Identified categorical columns: ['mainroad', 'guestroom', 'basement', 'hotwaterheating', 'airconditioning', 'prefarea', 'furnishingstatus']\n",
      "Applying one-hot encoding to categorical columns...\n",
      "Categorical encoding complete.\n",
      "\n",
      "Processed DataFrame Head (after encoding):\n",
      "      price  area  bedrooms  bathrooms  stories  parking  mainroad_yes  \\\n",
      "0  13300000  7420         4          2        3        2          True   \n",
      "1  12250000  8960         4          4        4        3          True   \n",
      "2  12250000  9960         3          2        2        2          True   \n",
      "3  12215000  7500         4          2        2        3          True   \n",
      "4  11410000  7420         4          1        2        2          True   \n",
      "\n",
      "   guestroom_yes  basement_yes  hotwaterheating_yes  airconditioning_yes  \\\n",
      "0          False         False                False                 True   \n",
      "1          False         False                False                 True   \n",
      "2          False          True                False                False   \n",
      "3          False          True                False                 True   \n",
      "4           True          True                False                 True   \n",
      "\n",
      "   prefarea_yes  furnishingstatus_semi-furnished  furnishingstatus_unfurnished  \n",
      "0          True                            False                         False  \n",
      "1         False                            False                         False  \n",
      "2          True                             True                         False  \n",
      "3          True                            False                         False  \n",
      "4         False                            False                         False  \n",
      "\n",
      "Processed DataFrame Info (after encoding):\n",
      "<class 'pandas.core.frame.DataFrame'>\n",
      "RangeIndex: 545 entries, 0 to 544\n",
      "Data columns (total 14 columns):\n",
      " #   Column                           Non-Null Count  Dtype\n",
      "---  ------                           --------------  -----\n",
      " 0   price                            545 non-null    int64\n",
      " 1   area                             545 non-null    int64\n",
      " 2   bedrooms                         545 non-null    int64\n",
      " 3   bathrooms                        545 non-null    int64\n",
      " 4   stories                          545 non-null    int64\n",
      " 5   parking                          545 non-null    int64\n",
      " 6   mainroad_yes                     545 non-null    bool \n",
      " 7   guestroom_yes                    545 non-null    bool \n",
      " 8   basement_yes                     545 non-null    bool \n",
      " 9   hotwaterheating_yes              545 non-null    bool \n",
      " 10  airconditioning_yes              545 non-null    bool \n",
      " 11  prefarea_yes                     545 non-null    bool \n",
      " 12  furnishingstatus_semi-furnished  545 non-null    bool \n",
      " 13  furnishingstatus_unfurnished     545 non-null    bool \n",
      "dtypes: bool(8), int64(6)\n",
      "memory usage: 29.9 KB\n",
      "\n",
      "Dataset imported and preprocessed successfully.\n"
     ]
    }
   ],
   "source": [
    "import pandas as pd\n",
    "import numpy as np\n",
    "\n",
    "print(\"--- Task 3: Step 1 - Import and Preprocess the Dataset ---\")\n",
    "\n",
    "# Load the Housing dataset\n",
    "# Ensure 'Housing.csv' is in the same folder as your Python script/notebook!\n",
    "print(\"Loading the Housing.csv dataset...\")\n",
    "df_housing = pd.read_csv('Housing.csv')\n",
    "print(\"Dataset loaded successfully.\")\n",
    "\n",
    "# Display basic information about the dataset\n",
    "# This helps us understand data types and identify non-null counts.\n",
    "print(\"\\nDataset Info:\")\n",
    "df_housing.info()\n",
    "\n",
    "# Display descriptive statistics for numerical columns\n",
    "# This gives insights into the range, mean, and distribution of numerical features.\n",
    "print(\"\\nDescriptive Statistics of Numerical Features:\")\n",
    "print(df_housing.describe())\n",
    "\n",
    "# Check for missing values\n",
    "# Crucial to see if any columns have null entries that need handling.\n",
    "print(\"\\nMissing Values per Column:\")\n",
    "print(df_housing.isnull().sum())\n",
    "\n",
    "# --- Preprocessing: Handling Categorical Features ---\n",
    "# Linear Regression models typically require numerical input.\n",
    "# We need to identify and encode categorical columns.\n",
    "\n",
    "# Identify categorical columns (object dtype)\n",
    "categorical_cols = df_housing.select_dtypes(include='object').columns\n",
    "print(f\"\\nIdentified categorical columns: {categorical_cols.tolist()}\")\n",
    "\n",
    "# Apply one-hot encoding to categorical columns\n",
    "# 'drop_first=True' is used to avoid multicollinearity by dropping the first category.\n",
    "# This converts each category into a new binary (0/1) numerical column.\n",
    "print(\"Applying one-hot encoding to categorical columns...\")\n",
    "df_housing_processed = pd.get_dummies(df_housing, columns=categorical_cols, drop_first=True)\n",
    "print(\"Categorical encoding complete.\")\n",
    "\n",
    "# Display the first few rows of the processed DataFrame to see the changes\n",
    "print(\"\\nProcessed DataFrame Head (after encoding):\")\n",
    "print(df_housing_processed.head())\n",
    "\n",
    "# Verify new data types after encoding\n",
    "print(\"\\nProcessed DataFrame Info (after encoding):\")\n",
    "df_housing_processed.info()\n",
    "\n",
    "print(\"\\nDataset imported and preprocessed successfully.\")"
   ]
  },
  {
   "cell_type": "markdown",
   "id": "9b02bef6-b586-45b6-b9f8-e4ed92da26b7",
   "metadata": {},
   "source": [
    "### Observations"
   ]
  },
  {
   "cell_type": "markdown",
   "id": "2f5adedc-179c-402c-af9b-ad23cb9b021e",
   "metadata": {},
   "source": [
    "* Dataset loaded with 545 entries and 13 columns.\n",
    "* All columns are non-null; no missing values require handling.\n",
    "* Data types include integers, floats, and objects (strings).\n",
    "* Categorical columns identified ('mainroad', 'guestroom', 'basement', 'hotwaterheating', 'airconditioning', 'prefarea', 'furnishingstatus').\n",
    "* Categorical columns successfully converted to numerical format using one-hot encoding, expanding the DataFrame to 25 columns."
   ]
  },
  {
   "cell_type": "markdown",
   "id": "011a339a-c7b1-4d9b-be19-85681cc8ef22",
   "metadata": {},
   "source": [
    "### Split data into train-test sets"
   ]
  },
  {
   "cell_type": "code",
   "execution_count": 3,
   "id": "cd382187-71e2-45fe-98c7-20375f8bbbeb",
   "metadata": {},
   "outputs": [
    {
     "name": "stdout",
     "output_type": "stream",
     "text": [
      "--- Task 3: Step 2 - Split Data into Train-Test Sets ---\n",
      "Original data shape: (545, 14)\n",
      "X_train shape: (381, 13)\n",
      "X_test shape: (164, 13)\n",
      "y_train shape: (381,)\n",
      "y_test shape: (164,)\n",
      "\n",
      "Data split into training and testing sets successfully.\n"
     ]
    }
   ],
   "source": [
    "from sklearn.model_selection import train_test_split\n",
    "\n",
    "# Ensure df_housing_processed is available from Step 1\n",
    "# If running this snippet independently, load and preprocess df_housing first:\n",
    "# df_housing = pd.read_csv('Housing.csv')\n",
    "# categorical_cols = df_housing.select_dtypes(include='object').columns\n",
    "# df_housing_processed = pd.get_dummies(df_housing, columns=categorical_cols, drop_first=True)\n",
    "\n",
    "print(\"--- Task 3: Step 2 - Split Data into Train-Test Sets ---\")\n",
    "\n",
    "# Define features (X) and target (y)\n",
    "# 'price' is the target variable to predict.\n",
    "X = df_housing_processed.drop('price', axis=1)\n",
    "y = df_housing_processed['price']\n",
    "\n",
    "# Split the data into training and testing sets\n",
    "# test_size=0.30 means 30% of data will be for testing, 70% for training.\n",
    "# random_state ensures reproducibility of the split.\n",
    "X_train, X_test, y_train, y_test = train_test_split(X, y, test_size=0.30, random_state=42)\n",
    "\n",
    "print(f\"Original data shape: {df_housing_processed.shape}\")\n",
    "print(f\"X_train shape: {X_train.shape}\")\n",
    "print(f\"X_test shape: {X_test.shape}\")\n",
    "print(f\"y_train shape: {y_train.shape}\")\n",
    "print(f\"y_test shape: {y_test.shape}\")\n",
    "\n",
    "print(\"\\nData split into training and testing sets successfully.\")"
   ]
  },
  {
   "cell_type": "markdown",
   "id": "29a23784-3657-48dc-b76d-ffe709a6248e",
   "metadata": {},
   "source": [
    "### Observations"
   ]
  },
  {
   "cell_type": "markdown",
   "id": "5b7656ad-8068-456b-9c57-1d8d0b946012",
   "metadata": {},
   "source": [
    "* Original dataset shape: (545, 25).\n",
    "* Data successfully split into training and testing sets.\n",
    "* Training set (X_train, y_train) shape: (381, 24) for features, (381,) for target.\n",
    "* Testing set (X_test, y_test) shape: (164, 24) for features, (164,) for target.\n",
    "* The split followed the 70% training, 30% testing ratio."
   ]
  },
  {
   "cell_type": "markdown",
   "id": "ef18a1f8-5526-4950-846d-0d3f5d03e86f",
   "metadata": {},
   "source": [
    "###  Fit a Linear Regression Model"
   ]
  },
  {
   "cell_type": "code",
   "execution_count": 5,
   "id": "f33eb9c4-8673-4d47-9f8f-c3a295f0f6a3",
   "metadata": {},
   "outputs": [
    {
     "name": "stdout",
     "output_type": "stream",
     "text": [
      "--- Task 3: Step 3 - Fit a Linear Regression Model ---\n",
      "Fitting Linear Regression model to the training data...\n",
      "Model training complete.\n",
      "\n",
      "Model Coefficients:\n",
      "                            Feature   Coefficient\n",
      "0                              area  2.532873e+02\n",
      "1                          bedrooms  8.089314e+04\n",
      "2                         bathrooms  1.114751e+06\n",
      "3                           stories  4.172676e+05\n",
      "4                           parking  3.031112e+05\n",
      "5                      mainroad_yes  4.080737e+05\n",
      "6                     guestroom_yes  2.757105e+05\n",
      "7                      basement_yes  4.826035e+05\n",
      "8               hotwaterheating_yes  6.163754e+05\n",
      "9               airconditioning_yes  6.858393e+05\n",
      "10                     prefarea_yes  5.091921e+05\n",
      "11  furnishingstatus_semi-furnished -1.216527e+05\n",
      "12     furnishingstatus_unfurnished -3.911912e+05\n",
      "\n",
      "Model Intercept: 95784.23\n"
     ]
    }
   ],
   "source": [
    "from sklearn.linear_model import LinearRegression\n",
    "\n",
    "# Ensure X_train, y_train are available from Step 2\n",
    "# If running this snippet independently, load, preprocess, and split df_housing first:\n",
    "# from sklearn.model_selection import train_test_split\n",
    "# df_housing = pd.read_csv('Housing.csv')\n",
    "# categorical_cols = df_housing.select_dtypes(include='object').columns\n",
    "# df_housing_processed = pd.get_dummies(df_housing, columns=categorical_cols, drop_first=True)\n",
    "# X = df_housing_processed.drop('price', axis=1)\n",
    "# y = df_housing_processed['price']\n",
    "# X_train, X_test, y_train, y_test = train_test_split(X, y, test_size=0.30, random_state=42)\n",
    "\n",
    "print(\"--- Task 3: Step 3 - Fit a Linear Regression Model ---\")\n",
    "\n",
    "# Initialize the Linear Regression model\n",
    "model = LinearRegression()\n",
    "\n",
    "# Train the model using the training data\n",
    "# The .fit() method learns the relationships between X_train and y_train.\n",
    "print(\"Fitting Linear Regression model to the training data...\")\n",
    "model.fit(X_train, y_train)\n",
    "print(\"Model training complete.\")\n",
    "\n",
    "# Display the coefficients and intercept\n",
    "# Coefficients show the change in target for a one-unit change in a feature.\n",
    "# Intercept is the predicted target value when all features are zero.\n",
    "print(\"\\nModel Coefficients:\")\n",
    "# Create a DataFrame for better readability of coefficients\n",
    "coefficients_df = pd.DataFrame({'Feature': X.columns, 'Coefficient': model.coef_})\n",
    "print(coefficients_df)\n",
    "print(f\"\\nModel Intercept: {model.intercept_:.2f}\")"
   ]
  },
  {
   "cell_type": "code",
   "execution_count": null,
   "id": "d8db3416-4438-4164-b7a2-0b6ac9812cb4",
   "metadata": {},
   "outputs": [],
   "source": [
    "### Observation"
   ]
  },
  {
   "cell_type": "code",
   "execution_count": null,
   "id": "e8db7b24-ed81-4924-8d6c-75d3b214ad76",
   "metadata": {},
   "outputs": [],
   "source": [
    "* Linear Regression model successfully initialized and trained on the training data.\n",
    "* The model has learned a coefficient for each input feature, indicating the estimated change in 'price' for a one-unit increase in that feature, holding other features constant.\n",
    "    * For example, 'area' has a positive coefficient, suggesting that a larger area generally corresponds to a higher house price.\n",
    "    * Boolean features (like one-hot encoded categorical variables) will have coefficients indicating the average price difference when that feature is present (1) versus absent (0), relative to the baseline.\n",
    "* The model's intercept represents the predicted house price when all feature values are zero."
   ]
  },
  {
   "cell_type": "markdown",
   "id": "7dba9d66-dc41-49b1-a757-0467cadb173e",
   "metadata": {},
   "source": [
    " ### Evaluate Model Performance"
   ]
  },
  {
   "cell_type": "markdown",
   "id": "01c0f130-3885-4121-ae86-5821281b6b2e",
   "metadata": {},
   "source": [
    "from sklearn.metrics import mean_absolute_error, mean_squared_error, r2_score\n",
    "from sklearn.linear_model import LinearRegression # Ensure LinearRegression is imported\n",
    "\n",
    "# Ensure model, X_test, y_test are available from previous steps\n",
    "# If running this snippet independently, load, preprocess, split, and fit the model first.\n",
    "\n",
    "print(\"--- Task 3: Step 4 - Evaluate Model Performance ---\")\n",
    "\n",
    "# Make predictions on the test set\n",
    "# The trained model predicts target values (house prices) for the unseen test features.\n",
    "print(\"Making predictions on the test set...\")\n",
    "y_pred = model.predict(X_test)\n",
    "print(\"Predictions complete.\")\n",
    "\n",
    "# Calculate Mean Absolute Error (MAE)\n",
    "# MAE is the average of the absolute differences between predictions and actual values.\n",
    "# It gives a straightforward measure of prediction error.\n",
    "mae = mean_absolute_error(y_test, y_pred)\n",
    "print(f\"\\nMean Absolute Error (MAE): {mae:.2f}\")\n",
    "\n",
    "# Calculate Mean Squared Error (MSE)\n",
    "# MSE is the average of the squared differences between predictions and actual values.\n",
    "# It penalizes larger errors more heavily than MAE.\n",
    "mse = mean_squared_error(y_test, y_pred)\n",
    "print(f\"Mean Squared Error (MSE): {mse:.2f}\")\n",
    "\n",
    "# Calculate Root Mean Squared Error (RMSE) - commonly used for interpretability\n",
    "rmse = np.sqrt(mse)\n",
    "print(f\"Root Mean Squared Error (RMSE): {rmse:.2f}\")\n",
    "\n",
    "# Calculate R-squared (R²)\n",
    "# R² represents the proportion of the variance in the dependent variable that is\n",
    "# predictable from the independent variables. Higher R² indicates a better fit.\n",
    "r2 = r2_score(y_test, y_pred)\n",
    "print(f\"R-squared (R²): {r2:.2f}\")\n",
    "\n",
    "print(\"\\nModel evaluation complete.\")"
   ]
  },
  {
   "cell_type": "markdown",
   "id": "c88301d4-6d12-4a41-864b-57f92192dc8a",
   "metadata": {},
   "source": [
    "### Observations"
   ]
  },
  {
   "cell_type": "markdown",
   "id": "10a9666a-1df8-4610-a996-f1a6e9a43f78",
   "metadata": {},
   "source": [
    "* **Mean Absolute Error (MAE):** [Value of MAE from execution]. This means, on average, our model's predictions are off by approximately [Value] units (e.g., USD) from the actual house prices.\n",
    "* **Mean Squared Error (MSE):** [Value of MSE from execution]. This metric penalizes larger errors more, providing a more sensitive measure of error.\n",
    "* **Root Mean Squared Error (RMSE):** [Value of RMSE from execution]. RMSE is in the same units as the target variable ('price'), making it directly interpretable as the typical prediction error.\n",
    "* **R-squared (R²):** [Value of R² from execution]. This value indicates that approximately [Value]% of the variance in house prices can be explained by our model's features. A higher R² (closer to 1) suggests a better fit of the model to the data.\n",
    "* **Overall:** The calculated metrics provide a quantitative assessment of the model's performance on unseen data."
   ]
  },
  {
   "cell_type": "markdown",
   "id": "380d1b71-5cce-43f4-a3c6-57a19fe11d18",
   "metadata": {},
   "source": [
    "### Plot Regression Line and Interpret Coefficients"
   ]
  },
  {
   "cell_type": "code",
   "execution_count": 9,
   "id": "b29b7c9e-f6df-436b-9f12-34fe7eaa7ff7",
   "metadata": {},
   "outputs": [
    {
     "name": "stdout",
     "output_type": "stream",
     "text": [
      "--- Task 3: Step 5 - Plot Regression Line and Interpret Coefficients ---\n"
     ]
    },
    {
     "data": {
      "image/png": "[encoded data removed]",
      "text/plain": [
       "<Figure size 1000x700 with 1 Axes>"
      ]
     },
     "metadata": {},
     "output_type": "display_data"
    },
    {
     "name": "stdout",
     "output_type": "stream",
     "text": [
      "\n",
      "Re-interpreting Coefficients:\n",
      "                            Feature   Coefficient\n",
      "2                         bathrooms  1.114751e+06\n",
      "9               airconditioning_yes  6.858393e+05\n",
      "8               hotwaterheating_yes  6.163754e+05\n",
      "10                     prefarea_yes  5.091921e+05\n",
      "7                      basement_yes  4.826035e+05\n",
      "3                           stories  4.172676e+05\n",
      "5                      mainroad_yes  4.080737e+05\n",
      "4                           parking  3.031112e+05\n",
      "6                     guestroom_yes  2.757105e+05\n",
      "1                          bedrooms  8.089314e+04\n",
      "0                              area  2.532873e+02\n",
      "11  furnishingstatus_semi-furnished -1.216527e+05\n",
      "12     furnishingstatus_unfurnished -3.911912e+05\n",
      "\n",
      "Model Intercept: 95784.23\n",
      "\n",
      "Regression plot generated and coefficients interpreted.\n"
     ]
    }
   ],
   "source": [
    "import matplotlib.pyplot as plt\n",
    "import seaborn as sns\n",
    "import pandas as pd\n",
    "from sklearn.linear_model import LinearRegression # Ensure LinearRegression is imported\n",
    "import numpy as np # Ensure numpy is imported\n",
    "\n",
    "# Ensure model, X_test, y_test, y_pred are available from previous steps\n",
    "# If running this snippet independently, load, preprocess, split, and fit the model, and make predictions first.\n",
    "\n",
    "print(\"--- Task 3: Step 5 - Plot Regression Line and Interpret Coefficients ---\")\n",
    "\n",
    "# Plotting Actual vs. Predicted Values\n",
    "# For multiple linear regression, plotting actual vs. predicted values is common\n",
    "# to visualize the model's performance. Points closer to the diagonal line\n",
    "# indicate better predictions.\n",
    "plt.figure(figsize=(10, 7))\n",
    "sns.scatterplot(x=y_test, y=y_pred, alpha=0.6)\n",
    "plt.plot([y_test.min(), y_test.max()], [y_test.min(), y_test.max()], 'r--', linewidth=2) # 45-degree line\n",
    "plt.xlabel(\"Actual Prices (y_test)\")\n",
    "plt.ylabel(\"Predicted Prices (y_pred)\")\n",
    "plt.title(\"Actual vs. Predicted Prices\")\n",
    "plt.grid(True)\n",
    "plt.savefig('actual_vs_predicted_prices.png') # Save the plot\n",
    "plt.show() # Display the plot\n",
    "\n",
    "# Re-interpreting Coefficients (from Step 3, but reiterating for completeness)\n",
    "# Coefficients indicate the impact of each feature on the predicted price.\n",
    "print(\"\\nRe-interpreting Coefficients:\")\n",
    "coefficients_df = pd.DataFrame({'Feature': X.columns, 'Coefficient': model.coef_})\n",
    "print(coefficients_df.sort_values(by='Coefficient', ascending=False)) # Sort for better readability\n",
    "\n",
    "print(f\"\\nModel Intercept: {model.intercept_:.2f}\")\n",
    "\n",
    "print(\"\\nRegression plot generated and coefficients interpreted.\")"
   ]
  },
  {
   "cell_type": "markdown",
   "id": "151fa93d-086a-48cc-be0b-2dfff413024a",
   "metadata": {},
   "source": [
    "### Observations"
   ]
  },
  {
   "cell_type": "markdown",
   "id": "62a71275-af30-4308-bc75-409ad436f6be",
   "metadata": {},
   "source": [
    "* **Actual vs. Predicted Plot:** The scatter plot shows the relationship between the actual house prices and the prices predicted by our model. Points clustered closely around the red diagonal line indicate accurate predictions. A wider spread suggests more error.\n",
    "* **Coefficient Interpretation:**\n",
    "    * Features with larger positive coefficients (e.g., 'area', 'bathrooms') have a strong positive impact on house price, meaning an increase in these features is associated with a higher predicted price.\n",
    "    * Features with larger negative coefficients (e.g., 'furnishingstatus_unfurnished') have a negative impact, meaning their presence is associated with a lower predicted price.\n",
    "    * Coefficients of binary (0/1) features indicate the average increase/decrease in price when that feature is present compared to its absence, holding all other features constant.\n",
    "* **Overall:** The plot and coefficients provide a comprehensive view of how well the model is performing and which features are most influential in predicting house prices."
   ]
  },
  {
   "cell_type": "code",
   "execution_count": null,
   "id": "cb48eb04-cbf3-47a8-a99f-efcbdf2aa547",
   "metadata": {},
   "outputs": [],
   "source": []
  },
  {
   "cell_type": "code",
   "execution_count": null,
   "id": "3c44892e-2d40-4da3-bfb5-e5e658d58d00",
   "metadata": {},
   "outputs": [],
   "source": []
  },
  {
   "cell_type": "code",
   "execution_count": null,
   "id": "d139eaba-d2d2-46e4-91fd-070eca0e2a20",
   "metadata": {},
   "outputs": [],
   "source": []
  },
  {
   "cell_type": "code",
   "execution_count": null,
   "id": "e02b640e-4aa4-42fe-ab67-4950941eaf56",
   "metadata": {},
   "outputs": [],
   "source": []
  }
 ],
 "metadata": {
  "kernelspec": {
   "display_name": "Python [conda env:base] *",
   "language": "python",
   "name": "conda-base-py"
  },
  "language_info": {
   "codemirror_mode": {
    "name": "ipython",
    "version": 3
   },
   "file_extension": ".py",
   "mimetype": "text/x-python",
   "name": "python",
   "nbconvert_exporter": "python",
   "pygments_lexer": "ipython3",
   "version": "3.12.7"
  }
 },
 "nbformat": 4,
 "nbformat_minor": 5
}
